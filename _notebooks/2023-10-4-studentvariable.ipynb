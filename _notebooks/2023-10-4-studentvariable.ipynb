{
 "cells": [
  {
   "cell_type": "markdown",
   "metadata": {},
   "source": [
    "---\n",
    "toc: false\n",
    "comments: true\n",
    "layout: post\n",
    "title: Variables Team Teach\n",
    "type: hacks\n",
    "courses: { compsci: {week: 8} }\n",
    "permalink: /variablesteamteachlesson\n",
    "--- "
   ]
  },
  {
   "cell_type": "code",
   "execution_count": 1,
   "metadata": {},
   "outputs": [
    {
     "name": "stdout",
     "output_type": "stream",
     "text": [
      "jayden is the best\n"
     ]
    }
   ],
   "source": [
    "x=\"jayden is the best\"\n",
    "print(x)"
   ]
  },
  {
   "cell_type": "code",
   "execution_count": 15,
   "metadata": {},
   "outputs": [
    {
     "name": "stdout",
     "output_type": "stream",
     "text": [
      "10 is an integer\n",
      "False is an boolean\n",
      "Jayden is a string\n"
     ]
    }
   ],
   "source": [
    "highscore = 10\n",
    "isRaining = False\n",
    "firstName = \"Jayden\"\n",
    "print(str(highscore)+\" is an integer\")\n",
    "print(str(isRaining)+\" is an boolean\")\n",
    "print(str(firstName)+\" is a string\")"
   ]
  },
  {
   "cell_type": "code",
   "execution_count": 23,
   "metadata": {},
   "outputs": [
    {
     "name": "stdout",
     "output_type": "stream",
     "text": [
      "7\n"
     ]
    }
   ],
   "source": [
    "currentScore = 10\n",
    "highScore = currentScore\n",
    "highScore = 7\n",
    "print(str(highScore))"
   ]
  },
  {
   "cell_type": "code",
   "execution_count": 20,
   "metadata": {},
   "outputs": [
    {
     "name": "stdout",
     "output_type": "stream",
     "text": [
      "69\n",
      "69\n",
      "420\n"
     ]
    }
   ],
   "source": [
    "num1 = 420\n",
    "num2 = 21\n",
    "num3 = 69\n",
    "num2 = num3\n",
    "num3 = num1\n",
    "num1 = num2\n",
    "print(str(num1))\n",
    "print(str(num2))\n",
    "print(str(num3))"
   ]
  },
  {
   "cell_type": "code",
   "execution_count": 43,
   "metadata": {},
   "outputs": [
    {
     "name": "stdout",
     "output_type": "stream",
     "text": [
      "Literally from Ohio:\n",
      "Jayden\n",
      "Will\n",
      "Howie\n",
      "Nihar\n"
     ]
    }
   ],
   "source": [
    "CoolKids = [\"Jayden\", \"Will\", \"Howie\", \"Nihar\"]\n",
    "print(\"Literally from Ohio:\")\n",
    "print(CoolKids[0])\n",
    "print(CoolKids[1])\n",
    "print(CoolKids[2])\n",
    "print(CoolKids[3])"
   ]
  },
  {
   "cell_type": "code",
   "execution_count": 46,
   "metadata": {},
   "outputs": [
    {
     "name": "stdout",
     "output_type": "stream",
     "text": [
      "Most Ohio Class:\n",
      "AP Calc BC\n",
      "AP Calc BC\n",
      "AP Calc BC\n",
      "AP Calc BC\n"
     ]
    }
   ],
   "source": [
    "CoolClasses = [\"HMI\", \"APEL\", \"AP Calc BC\", \"APCSP\", \"US History\"]\n",
    "print(\"Most Ohio Class:\")\n",
    "print(CoolClasses[2])\n",
    "print(CoolClasses[2])\n",
    "print(CoolClasses[2])\n",
    "print(CoolClasses[2])"
   ]
  },
  {
   "cell_type": "markdown",
   "metadata": {},
   "source": [
    "## Hack 1\n",
    "\n",
    "Integer: Variable 1\n",
    "List: Variable 3\n",
    "Booleon: Variable 4\n",
    "String: Variable 2"
   ]
  },
  {
   "cell_type": "code",
   "execution_count": 2,
   "metadata": {},
   "outputs": [
    {
     "name": "stdout",
     "output_type": "stream",
     "text": [
      "26\n",
      "allen\n",
      "('100 Grand', 'Swedish Fish', 'Twix', 'Hershey')\n",
      "True\n"
     ]
    }
   ],
   "source": [
    "# Variable 1: Integer\n",
    "\n",
    "numstudents = 26\n",
    "print(numstudents)\n",
    "\n",
    "# Variable 2\n",
    "\n",
    "car = \"Tesla\"\n",
    "print(car)\n",
    "\n",
    "# Variable 3\n",
    "\n",
    "groupMates = (\"Nikki\", \"Monike\", \"Ankit\", \"Varun\")\n",
    "print(groupMates)\n",
    "\n",
    "# Variable 4\n",
    "\n",
    "dogsbeatcats = True\n",
    "print(dogsbeatcats)"
   ]
  },
  {
   "cell_type": "markdown",
   "metadata": {},
   "source": [
    "## Hack 2"
   ]
  },
  {
   "cell_type": "code",
   "execution_count": 22,
   "metadata": {},
   "outputs": [
    {
     "name": "stdout",
     "output_type": "stream",
     "text": [
      "16\n",
      "lexus\n",
      "<class 'list'>\n",
      "[[\"100 Grand\", \"Swedish Fish\", \"Twix\", \"Hershey\"]]\n",
      "<class 'str'>\n",
      "True\n"
     ]
    }
   ],
   "source": [
    "# Variable 1\n",
    "\n",
    "Age = 16\n",
    "print(Age)\n",
    "\n",
    "# Variable 2\n",
    "\n",
    "car = \"lexus\"\n",
    "print(car)\n",
    "\n",
    "# Variable 3\n",
    "\n",
    "favoritecandy = [\"100 Grand\", \"Swedish Fish\", \"Twix\", \"Hershey\"]\n",
    "\n",
    "import json\n",
    "lst = [favoritecandy]\n",
    "print(type(lst))\n",
    "favoritecandy = json.dumps(lst)\n",
    "print(favoritecandy)\n",
    "print(type(favoritecandy))\n",
    "\n",
    "# Variable 4\n",
    "\n",
    "Jaydeniscool = True\n",
    "print(Jaydeniscool)"
   ]
  }
 ],
 "metadata": {
  "kernelspec": {
   "display_name": "Python 3",
   "language": "python",
   "name": "python3"
  },
  "language_info": {
   "codemirror_mode": {
    "name": "ipython",
    "version": 3
   },
   "file_extension": ".py",
   "mimetype": "text/x-python",
   "name": "python",
   "nbconvert_exporter": "python",
   "pygments_lexer": "ipython3",
   "version": "3.11.5"
  },
  "orig_nbformat": 4
 },
 "nbformat": 4,
 "nbformat_minor": 2
}
