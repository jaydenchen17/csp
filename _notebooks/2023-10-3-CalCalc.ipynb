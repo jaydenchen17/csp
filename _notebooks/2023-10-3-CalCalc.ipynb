{
 "cells": [
  {
   "cell_type": "code",
   "execution_count": null,
   "metadata": {},
   "outputs": [],
   "source": [
    "---\n",
    "comments: true\n",
    "layout: post\n",
    "title: Calculator IPYNB\n",
    "description: Grab Calculator Code and place in IPYNB\n",
    "type: hacks\n",
    "courses: { compsci: {week: 2} }\n",
    "---"
   ]
  }
 ],
 "metadata": {
  "language_info": {
   "name": "python"
  },
  "orig_nbformat": 4
 },
 "nbformat": 4,
 "nbformat_minor": 2
}
