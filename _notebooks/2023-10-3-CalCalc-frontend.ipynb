{
 "cells": [
  {
   "cell_type": "markdown",
   "metadata": {},
   "source": [
    "---\n",
    "comments: true\n",
    "layout: post\n",
    "title: JS Frontend\n",
    "type: hacks\n",
    "permalink: /CalCalc/frontend\n",
    "---"
   ]
  },
  {
   "cell_type": "raw",
   "metadata": {},
   "source": [
    "{% include nav_CalCalc.html %}"
   ]
  },
  {
   "cell_type": "code",
   "execution_count": 2,
   "metadata": {
    "vscode": {
     "languageId": "html"
    }
   },
   "outputs": [
    {
     "data": {
      "text/html": [
       "\n",
       "\n",
       "<html lang=\"en\">\n",
       "<head>\n",
       "    <meta charset=\"UTF-8\">\n",
       "    <meta name=\"viewport\" content=\"width=device-width, initial-scale=1.0\">\n",
       "    <title>Calorie Calculator</title>\n",
       "</head>\n",
       "\n",
       "<body>\n",
       "    <h1>Calorie Calculator</h1>\n",
       "    <form id=\"calorieForm\">\n",
       "        <label for=\"age\">Age:</label>\n",
       "        <input type=\"number\" id=\"age\" required><br><br>\n",
       "        \n",
       "        <label for=\"gender\">Gender:</label>\n",
       "        <select id=\"gender\" required>\n",
       "            <option value=\"male\">Male</option>\n",
       "            <option value=\"female\">Female</option>\n",
       "        </select><br><br>\n",
       "        \n",
       "        <label for=\"weight\">Weight (kg):</label>\n",
       "        <input type=\"number\" id=\"weight\" required><br><br>\n",
       "        \n",
       "        <label for=\"height\">Height (cm):</label>\n",
       "        <input type=\"number\" id=\"height\" required><br><br>\n",
       "        \n",
       "        <label for=\"activity\">Activity Level:</label>\n",
       "        <select id=\"activity\" required>\n",
       "            <option value=\"sedentary\">Sedentary</option>\n",
       "            <option value=\"lightly active\">Lightly Active</option>\n",
       "            <option value=\"moderately active\">Moderately Active</option>\n",
       "            <option value=\"very active\">Very Active</option>\n",
       "            <option value=\"extra active\">Extra Active</option>\n",
       "        </select><br><br>\n",
       "        \n",
       "        <input type=\"submit\" value=\"Calculate\">\n",
       "    </form>\n",
       "\n",
       "    <div id=\"result\"></div>\n",
       "\n",
       "    <script>\n",
       "        document.getElementById(\"calorieForm\").addEventListener(\"submit\", function(event) {\n",
       "            event.preventDefault();\n",
       "\n",
       "            const age = parseFloat(document.getElementById(\"age\").value);\n",
       "            const gender = document.getElementById(\"gender\").value;\n",
       "            const weight = parseFloat(document.getElementById(\"weight\").value);\n",
       "            const height = parseFloat(document.getElementById(\"height\").value);\n",
       "            const activity = document.getElementById(\"activity\").value;\n",
       "\n",
       "            // Send a POST request to the Python backend using relative path\n",
       "            fetch(\"/_posts/CalCalc/2023-10-3-CalCalc-backend.py\", {\n",
       "                method: \"POST\",\n",
       "                headers: {\n",
       "                    \"Content-Type\": \"application/json\",\n",
       "                },\n",
       "                body: JSON.stringify({ age, gender, weight, height, activity }),\n",
       "            })\n",
       "            .then(response => response.json())\n",
       "            .then(data => {\n",
       "                document.getElementById(\"result\").innerHTML = `Your daily calorie requirement is approximately ${data.calories.toFixed(2)} calories.`;\n",
       "            })\n",
       "            .catch(error => {\n",
       "                console.error(\"Error:\", error);\n",
       "            });\n",
       "        });\n",
       "    </script>\n",
       "</body>\n",
       "</html>\n"
      ],
      "text/plain": [
       "<IPython.core.display.HTML object>"
      ]
     },
     "metadata": {},
     "output_type": "display_data"
    }
   ],
   "source": [
    "%%html\n",
    "\n",
    "\n",
    "<html lang=\"en\">\n",
    "<head>\n",
    "    <meta charset=\"UTF-8\">\n",
    "    <meta name=\"viewport\" content=\"width=device-width, initial-scale=1.0\">\n",
    "    <title>Calorie Calculator</title>\n",
    "</head>\n",
    "\n",
    "<body>\n",
    "    <h1>Calorie Calculator</h1>\n",
    "    <form id=\"calorieForm\">\n",
    "        <label for=\"age\">Age:</label>\n",
    "        <input type=\"number\" id=\"age\" required><br><br>\n",
    "        \n",
    "        <label for=\"gender\">Gender:</label>\n",
    "        <select id=\"gender\" required>\n",
    "            <option value=\"male\">Male</option>\n",
    "            <option value=\"female\">Female</option>\n",
    "        </select><br><br>\n",
    "        \n",
    "        <label for=\"weight\">Weight (kg):</label>\n",
    "        <input type=\"number\" id=\"weight\" required><br><br>\n",
    "        \n",
    "        <label for=\"height\">Height (cm):</label>\n",
    "        <input type=\"number\" id=\"height\" required><br><br>\n",
    "        \n",
    "        <label for=\"activity\">Activity Level:</label>\n",
    "        <select id=\"activity\" required>\n",
    "            <option value=\"sedentary\">Sedentary</option>\n",
    "            <option value=\"lightly active\">Lightly Active</option>\n",
    "            <option value=\"moderately active\">Moderately Active</option>\n",
    "            <option value=\"very active\">Very Active</option>\n",
    "            <option value=\"extra active\">Extra Active</option>\n",
    "        </select><br><br>\n",
    "        \n",
    "        <input type=\"submit\" value=\"Calculate\">\n",
    "    </form>\n",
    "\n",
    "    <div id=\"result\"></div>\n",
    "\n",
    "    <script>\n",
    "        document.getElementById(\"calorieForm\").addEventListener(\"submit\", function(event) {\n",
    "            event.preventDefault();\n",
    "\n",
    "            const age = parseFloat(document.getElementById(\"age\").value);\n",
    "            const gender = document.getElementById(\"gender\").value;\n",
    "            const weight = parseFloat(document.getElementById(\"weight\").value);\n",
    "            const height = parseFloat(document.getElementById(\"height\").value);\n",
    "            const activity = document.getElementById(\"activity\").value;\n",
    "\n",
    "            // Send a POST request to the Python backend using relative path\n",
    "            fetch(\"/_posts/CalCalc/2023-10-3-CalCalc-backend.py\", {\n",
    "                method: \"POST\",\n",
    "                headers: {\n",
    "                    \"Content-Type\": \"application/json\",\n",
    "                },\n",
    "                body: JSON.stringify({ age, gender, weight, height, activity }),\n",
    "            })\n",
    "            .then(response => response.json())\n",
    "            .then(data => {\n",
    "                document.getElementById(\"result\").innerHTML = `Your daily calorie requirement is approximately ${data.calories.toFixed(2)} calories.`;\n",
    "            })\n",
    "            .catch(error => {\n",
    "                console.error(\"Error:\", error);\n",
    "            });\n",
    "        });\n",
    "    </script>\n",
    "</body>\n",
    "</html>\n"
   ]
  },
  {
   "cell_type": "markdown",
   "metadata": {},
   "source": [
    "This code sets up an HTML form with fields for age, gender, weight, height, and activity level. It uses labels and input/select elements to create a user-friendly interface. The \"Calculate\" button allows users to submit the form for processing."
   ]
  }
 ],
 "metadata": {
  "kernelspec": {
   "display_name": "Python 3",
   "language": "python",
   "name": "python3"
  },
  "language_info": {
   "codemirror_mode": {
    "name": "ipython",
    "version": 3
   },
   "file_extension": ".py",
   "mimetype": "text/x-python",
   "name": "python",
   "nbconvert_exporter": "python",
   "pygments_lexer": "ipython3",
   "version": "3.11.5"
  },
  "orig_nbformat": 4
 },
 "nbformat": 4,
 "nbformat_minor": 2
}
