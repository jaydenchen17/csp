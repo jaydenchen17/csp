{
 "cells": [
  {
   "cell_type": "markdown",
   "metadata": {},
   "source": [
    "---\n",
    "toc: true\n",
    "comments: false\n",
    "layout: post\n",
    "title: Team Teach Reflections\n",
    "type: hacks\n",
    "courses: { compsci: {week: 11} }\n",
    "permalink: /teamteachreflect\n",
    "---"
   ]
  },
  {
   "cell_type": "markdown",
   "metadata": {},
   "source": [
    "my favorite popcorn/hw hacks from each lesson"
   ]
  },
  {
   "cell_type": "code",
   "execution_count": 15,
   "metadata": {},
   "outputs": [
    {
     "name": "stdout",
     "output_type": "stream",
     "text": [
      "You entered: jayden is cool\n"
     ]
    }
   ],
   "source": [
    "# iterations\n",
    "while True:\n",
    "    user_input = input(\"Enter something (type 'exit' to quit): \")\n",
    "    if user_input == \"exit\":\n",
    "        break\n",
    "    print(\"You entered:\", user_input)"
   ]
  },
  {
   "cell_type": "markdown",
   "metadata": {},
   "source": [
    "Iterations keep a program doing something over and over, in this case, bugging the user for input until they finally give in and type 'exit,' which keeps the interaction going."
   ]
  },
  {
   "cell_type": "code",
   "execution_count": 3,
   "metadata": {},
   "outputs": [
    {
     "name": "stdout",
     "output_type": "stream",
     "text": [
      "16\n",
      "lexus\n",
      "<class 'list'>\n",
      "[[\"100 Grand\", \"Swedish Fish\", \"Twix\", \"Hershey\"]]\n",
      "<class 'str'>\n",
      "True\n"
     ]
    }
   ],
   "source": [
    "# variables\n",
    "\n",
    "# Variable 1\n",
    "numstudents = 26\n",
    "print(numstudents)\n",
    "\n",
    "# Variable 2\n",
    "\n",
    "car = \"Tesla\"\n",
    "print(car)\n",
    "\n",
    "# Variable 3\n",
    "\n",
    "groupMates = (\"Nikki\", \"Monike\", \"Ankit\", \"Varun\")\n",
    "print(groupMates)\n",
    "\n",
    "# Variable 4\n",
    "\n",
    "dogsbeatcats = True\n",
    "print(dogsbeatcats)\n",
    "\n",
    "\n",
    "\n",
    "# Variable 1\n",
    "\n",
    "Age = 16\n",
    "print(Age)\n",
    "\n",
    "# Variable 2\n",
    "\n",
    "car = \"lexus\"\n",
    "print(car)\n",
    "\n",
    "# Variable 3\n",
    "\n",
    "favoritecandy = [\"100 Grand\", \"Swedish Fish\", \"Twix\", \"Hershey\"]\n",
    "\n",
    "import json\n",
    "lst = [favoritecandy]\n",
    "print(type(lst))\n",
    "favoritecandy = json.dumps(lst)\n",
    "print(favoritecandy)\n",
    "print(type(favoritecandy))\n",
    "\n",
    "# Variable 4\n",
    "\n",
    "Jaydeniscool = True\n",
    "print(Jaydeniscool)"
   ]
  },
  {
   "cell_type": "markdown",
   "metadata": {},
   "source": [
    "Variables are like containers that hold different pieces of information in code, allowing you to store and manipulate data, making programs flexible and dynamic."
   ]
  },
  {
   "cell_type": "code",
   "execution_count": 7,
   "metadata": {},
   "outputs": [
    {
     "name": "stdout",
     "output_type": "stream",
     "text": [
      "Jayden Chen\n",
      "Jayden Chen is cool.\n",
      "The sentence length is 20 characters.\n"
     ]
    }
   ],
   "source": [
    "# Algorithms\n",
    "\n",
    "thing1 = \"Jayden \"\n",
    "thing2 = \"Chen\"\n",
    "result = thing1 + thing2\n",
    "print(result)\n",
    "\n",
    "word1 = \"Jayden \"\n",
    "word2 = \"Chen \"\n",
    "word3 = \"is \"\n",
    "word4 = \"cool.\"\n",
    "sentence = word1 + word2 + word3 + word4\n",
    "print(sentence)\n",
    "stringLength = len(sentence)\n",
    "print(f\"The sentence length is {stringLength} characters.\")"
   ]
  },
  {
   "cell_type": "markdown",
   "metadata": {},
   "source": [
    "Algorithms are responsible for providing step-by-step instructions for solving problems and performing tasks efficiently and consistently."
   ]
  },
  {
   "cell_type": "code",
   "execution_count": 6,
   "metadata": {},
   "outputs": [
    {
     "name": "stdout",
     "output_type": "stream",
     "text": [
      "False\n",
      "stay at home pookie bear\n"
     ]
    }
   ],
   "source": [
    "# booleons\n",
    "\n",
    "temperature = 19\n",
    "weather = \"stormy\"\n",
    "result = temperature > 20 and weather == \"stormy\"\n",
    "print(result)\n",
    "if result == True:\n",
    "    print(\"go outside stinky pants\")\n",
    "else:\n",
    "    print(\"stay at home pookie bear\")"
   ]
  },
  {
   "cell_type": "markdown",
   "metadata": {},
   "source": [
    "Booleans are the digital decision-makers of code, enabling it to make choices, evaluate conditions, and control the flow of programs by representing true or false values."
   ]
  },
  {
   "cell_type": "code",
   "execution_count": 9,
   "metadata": {},
   "outputs": [
    {
     "name": "stdout",
     "output_type": "stream",
     "text": [
      "mean 50.0\n",
      "Median: 50\n"
     ]
    }
   ],
   "source": [
    "# Developing Algorithms\n",
    "list = [50, 30, 70, 40, 60]\n",
    "mean = sum(list) / len(list)\n",
    "print(\"mean\", mean)\n",
    "\n",
    "sortedlist = sorted(list)\n",
    "n = len(sortedlist)\n",
    "if n % 2 == 0:\n",
    "    median = (sortedlist[n // 2 - 1] + sortedlist[n // 2]) / 2\n",
    "else:\n",
    "    median = sortedlist[n // 2]\n",
    "print(\"Median:\", median)"
   ]
  },
  {
   "cell_type": "code",
   "execution_count": 10,
   "metadata": {},
   "outputs": [
    {
     "name": "stdout",
     "output_type": "stream",
     "text": [
      "25\n"
     ]
    }
   ],
   "source": [
    "# list\n",
    "nums = [30, 45, 95, 56, 73, 98, 25]\n",
    "min_value = nums[4]  # Start with the first element as the minimum\n",
    "\n",
    "for score in nums:\n",
    "    if score < min_value:\n",
    "            min_value = score\n",
    "\n",
    "\n",
    "print(min_value)  # Display the minimum value"
   ]
  },
  {
   "cell_type": "markdown",
   "metadata": {},
   "source": [
    "Lists allow you to group and organize multiple items, making it easier to work with collections of data."
   ]
  },
  {
   "cell_type": "code",
   "execution_count": 12,
   "metadata": {},
   "outputs": [
    {
     "name": "stdout",
     "output_type": "stream",
     "text": [
      "today is warmer than yesterday\n",
      "the temperature right now is 71 degrees\n"
     ]
    }
   ],
   "source": [
    "# developing procedures\n",
    "def updateweather(currentweather, weather):\n",
    "    if currentweather> weather:\n",
    "        weather = currentweather\n",
    "        print(\"today is warmer than yesterday\")\n",
    "    else:\n",
    "        print(\"today is colder than yesterday\")\n",
    "    return currentweather\n",
    "\n",
    "currentweather = 71\n",
    "weather = 66\n",
    "currentgrade = updateweather(currentweather, weather)\n",
    "print(\"the temperature right now is\", currentweather, \"degrees\")"
   ]
  },
  {
   "cell_type": "markdown",
   "metadata": {},
   "source": [
    "Procedures are like pre-defined sets of instructions in code, simplifying complex tasks by breaking them down into manageable, reusable chunks of functionality."
   ]
  },
  {
   "cell_type": "code",
   "execution_count": 13,
   "metadata": {},
   "outputs": [
    {
     "name": "stdout",
     "output_type": "stream",
     "text": [
      "24\n"
     ]
    }
   ],
   "source": [
    "# Libraries\n",
    "from math import factorial\n",
    "num = 4\n",
    "print(factorial(num))"
   ]
  },
  {
   "cell_type": "markdown",
   "metadata": {},
   "source": [
    "Libraries import bunches pre-written code in programming, offering a ton of functions and tools that help developers save time"
   ]
  },
  {
   "cell_type": "code",
   "execution_count": 14,
   "metadata": {},
   "outputs": [
    {
     "name": "stdout",
     "output_type": "stream",
     "text": [
      "Your random number is: 16\n"
     ]
    }
   ],
   "source": [
    "# simulations\n",
    "import random\n",
    "\n",
    "def roll_die():\n",
    "    # Gives random integer between 1 and 6\n",
    "    return random.randint(1, 100)\n",
    "\n",
    "# Defines the variable \"result\" as the result of function roll_die()\n",
    "result = roll_die()\n",
    "print(\"Your random number is:\", result)"
   ]
  },
  {
   "cell_type": "markdown",
   "metadata": {},
   "source": [
    "Simulations mimick real-world scenarios and events to analyze, test, and predict outcomes, making them valuable tools for research and problem-solving."
   ]
  }
 ],
 "metadata": {
  "kernelspec": {
   "display_name": "Python 3",
   "language": "python",
   "name": "python3"
  },
  "language_info": {
   "codemirror_mode": {
    "name": "ipython",
    "version": 3
   },
   "file_extension": ".py",
   "mimetype": "text/x-python",
   "name": "python",
   "nbconvert_exporter": "python",
   "pygments_lexer": "ipython3",
   "version": "3.11.5"
  }
 },
 "nbformat": 4,
 "nbformat_minor": 2
}
