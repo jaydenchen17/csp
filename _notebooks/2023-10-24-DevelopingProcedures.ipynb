{
 "cells": [
  {
   "cell_type": "markdown",
   "metadata": {},
   "source": [
    "## 3.12-3.13 Developing Procedures"
   ]
  },
  {
   "cell_type": "markdown",
   "metadata": {},
   "source": [
    "## What is a procedure?\n",
    "\n",
    "A procedure is a named group of programming instructions\n",
    "\n",
    "2 Main Types of Procedures:\n",
    "- Procedure that returns a value of data\n",
    "- Procedure that executes a block of statements\n",
    "\n",
    "## Learning Objective:\n",
    "Be able to look at code and determine the purpose, and be able to write a procedure to manage complexity of program. understand the following terms and what they look like as well as how to use them in code\n",
    "\n",
    "- Procedure Parameters: variables that are defined within the procedure's parentheses and serve as placeholders for values that can be passed to the procedure when it is called, allowing the procedure to operate on different data or values each time it is executed.\n",
    "- Procedure Algorithms: a step-by-step set of instructions that defines a specific task or operation to be performed within a computer program\n",
    "- Procedure Return Values: data or results that a procedure can send back to the part of the program that called it, allowing the procedure to provide information or perform a specific task and then share the outcome with the rest of the program."
   ]
  },
  {
   "cell_type": "markdown",
   "metadata": {},
   "source": [
    "## Name, Parameters, Algorithm, Return Values, and Calling a Procedure"
   ]
  },
  {
   "cell_type": "code",
   "execution_count": 44,
   "metadata": {},
   "outputs": [
    {
     "name": "stdout",
     "output_type": "stream",
     "text": [
      "85\n"
     ]
    }
   ],
   "source": [
    "## Example of Procedure that Updates A Quiz Grade\n",
    "def updatequiz(currentgrade, quizgrade):\n",
    "    if quizgrade > currentgrade:\n",
    "        currentgrade = quizgrade\n",
    "    return currentgrade\n",
    "\n",
    "currentgrade = 75\n",
    "quizgrade = 88\n",
    "currentgrade = updatequiz(currentgrade, quizgrade)\n",
    "print(currentgrade)"
   ]
  },
  {
   "cell_type": "markdown",
   "metadata": {},
   "source": [
    "## Popcorn Hack #1:\n",
    "Identify the name of the procedure below, tell us the purpose and parameters of the procedure and identify the algorithm return value:"
   ]
  },
  {
   "cell_type": "code",
   "execution_count": 40,
   "metadata": {},
   "outputs": [
    {
     "name": "stdout",
     "output_type": "stream",
     "text": [
      "today is warmer than yesterday\n",
      "the temperature right now is 71 degrees\n"
     ]
    }
   ],
   "source": [
    "def updateweather(currentweather, weather):\n",
    "    if currentweather> weather:\n",
    "        weather = currentweather\n",
    "        print(\"today is warmer than yesterday\")\n",
    "    else:\n",
    "        print(\"today is colder than yesterday\")\n",
    "    return currentgrade\n",
    "\n",
    "currentweather = 71\n",
    "weather = 66\n",
    "currentgrade = updateweather(currentweather, weather)\n",
    "print(\"the temperature right now is\", currentweather, \"degrees\")"
   ]
  },
  {
   "cell_type": "markdown",
   "metadata": {},
   "source": [
    "## Costructing Classes for Names & Data with Procedures"
   ]
  },
  {
   "cell_type": "code",
   "execution_count": 59,
   "metadata": {},
   "outputs": [],
   "source": [
    "# Procedure to create a class for short and tall people\n",
    "def create_height_classification_class():\n",
    "    class HeightClassifier:\n",
    "        def __init__(self, name, height):\n",
    "            self.name = name\n",
    "            self.height = height\n",
    "            self.category = self.classify_height()\n",
    "\n",
    "        def classify_height(self):\n",
    "            if self.height < 70:\n",
    "                return \"Short\"\n",
    "            else:\n",
    "                return \"Tall\"\n",
    "\n",
    "    return HeightClassifier\n",
    "\n",
    "# Create the HeightClassifier class using the procedure\n",
    "Person = create_height_classification_class()\n",
    "\n",
    "# Create  objects and classify them as short or tall\n",
    "person1 = Person(\"Nihar\", 65)\n",
    "person2 = Person(\"Will\", 76)\n",
    "person3 = Person(\"Jayden\", 80)\n"
   ]
  },
  {
   "cell_type": "markdown",
   "metadata": {},
   "source": [
    "## Popcorn Hack #2:\n",
    "Use the example above to use a procedure to create two classes of your choosing. Create at least 2 objects and class them with your procedure"
   ]
  },
  {
   "cell_type": "code",
   "execution_count": null,
   "metadata": {},
   "outputs": [],
   "source": [
    "# Create your own procedure to classify at least two objects"
   ]
  },
  {
   "cell_type": "markdown",
   "metadata": {},
   "source": [
    "## Calling Methods of an Object w/ Procedures"
   ]
  },
  {
   "cell_type": "code",
   "execution_count": 57,
   "metadata": {},
   "outputs": [
    {
     "name": "stdout",
     "output_type": "stream",
     "text": [
      "Nihar is Short\n",
      "Will is Tall\n",
      "Jayden is Tall\n",
      "Howie is Short\n"
     ]
    }
   ],
   "source": [
    "# Procedure to create a class for short and tall people\n",
    "def create_height_classification_class():\n",
    "    class HeightClassifier:\n",
    "        def __init__(self, name, height):\n",
    "            self.name = name\n",
    "            self.height = height\n",
    "            self.category = self.classify_height()\n",
    "\n",
    "        def classify_height(self):\n",
    "            if self.height < 69:\n",
    "                return \"Short\"\n",
    "            else:\n",
    "                return \"Tall\"\n",
    "\n",
    "    return HeightClassifier\n",
    "\n",
    "# Create the HeightClassifier class using the procedure\n",
    "Person = create_height_classification_class()\n",
    "\n",
    "# Create  objects and classify them as short or tall\n",
    "person1 = Person(\"Nihar\", 65)\n",
    "person2 = Person(\"Will\", 76)\n",
    "person3 = Person(\"Jayden\", 80)\n",
    "person4 = Person(\"Howie\", 60)\n",
    "\n",
    "# Statements to call methods of an object\n",
    "print(f\"{person1.name} is {person1.category}\")\n",
    "print(f\"{person2.name} is {person2.category}\")\n",
    "print(f\"{person3.name} is {person3.category}\")\n",
    "print(f\"{person4.name} is {person4.category}\")\n"
   ]
  },
  {
   "cell_type": "markdown",
   "metadata": {},
   "source": [
    "## HW Hacks!!\n",
    "1. Create a procedure that replaces a value with a new one (ex. update height)\n",
    "2. Create a procedure that constrcuts classes of your choosing and create at least 4 objects to be sorted into your classes. Call your procedure to display your objects."
   ]
  },
  {
   "cell_type": "code",
   "execution_count": null,
   "metadata": {},
   "outputs": [],
   "source": [
    "# HW Hack 1"
   ]
  },
  {
   "cell_type": "code",
   "execution_count": null,
   "metadata": {},
   "outputs": [],
   "source": [
    "# HW Hack 2"
   ]
  }
 ],
 "metadata": {
  "kernelspec": {
   "display_name": "Python 3",
   "language": "python",
   "name": "python3"
  },
  "language_info": {
   "codemirror_mode": {
    "name": "ipython",
    "version": 3
   },
   "file_extension": ".py",
   "mimetype": "text/x-python",
   "name": "python",
   "nbconvert_exporter": "python",
   "pygments_lexer": "ipython3",
   "version": "3.11.5"
  }
 },
 "nbformat": 4,
 "nbformat_minor": 2
}
