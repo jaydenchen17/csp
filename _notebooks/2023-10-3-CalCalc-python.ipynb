{
 "cells": [
  {
   "cell_type": "markdown",
   "metadata": {},
   "source": [
    "---\n",
    "comments: true\n",
    "layout: post\n",
    "title: Python Backend\n",
    "type: hacks\n",
    "permalink: /CalCalc/python\n",
    "---"
   ]
  },
  {
   "cell_type": "raw",
   "metadata": {},
   "source": [
    "{% include nav_CalCalc.html %}"
   ]
  },
  {
   "cell_type": "code",
   "execution_count": 3,
   "metadata": {},
   "outputs": [
    {
     "name": "stdout",
     "output_type": "stream",
     "text": [
      "Your daily calorie requirement is approximately 2566.88 calories.\n"
     ]
    }
   ],
   "source": [
    "# Constants for the Harris-Benedict Equation\n",
    "BMR_MALE = 88.362\n",
    "BMR_FEMALE = 447.593\n",
    "ACTIVITY_MULTIPLIERS = {\n",
    "    \"sedentary\": 1.2,\n",
    "    \"lightly active\": 1.375,\n",
    "    \"moderately active\": 1.55,\n",
    "    \"very active\": 1.725,\n",
    "    \"extra active\": 1.9,\n",
    "}\n",
    "\n",
    "# Function to calculate BMR (Basal Metabolic Rate)\n",
    "def calculate_bmr(age, gender, weight, height):\n",
    "    if gender == \"male\":\n",
    "        return BMR_MALE + (13.397 * weight) + (4.799 * height) - (5.677 * age)\n",
    "    elif gender == \"female\":\n",
    "        return BMR_FEMALE + (9.247 * weight) + (3.098 * height) - (4.330 * age)\n",
    "    else:\n",
    "        raise ValueError(\"Invalid gender\")\n",
    "\n",
    "# Function to calculate daily calorie requirements\n",
    "def calculate_calories(age, gender, weight, height, activity_level):\n",
    "    bmr = calculate_bmr(age, gender, weight, height)\n",
    "    activity_multiplier = ACTIVITY_MULTIPLIERS.get(activity_level.lower(), 1.2)\n",
    "    daily_calories = bmr * activity_multiplier\n",
    "    return daily_calories\n",
    "\n",
    "# Input values\n",
    "age = int(input(\"Enter your age: \"))\n",
    "gender = input(\"Enter your gender (male/female): \")\n",
    "weight = float(input(\"Enter your weight in kilograms: \"))\n",
    "height = float(input(\"Enter your height in centimeters: \"))\n",
    "activity_level = input(\"Enter your activity level (sedentary/lightly active/moderately active/very active/extra active): \")\n",
    "\n",
    "# Calculate daily calorie requirements\n",
    "calories = calculate_calories(age, gender, weight, height, activity_level)\n",
    "\n",
    "# Display the result\n",
    "print(f\"Your daily calorie requirement is approximately {calories:.2f} calories.\")\n"
   ]
  },
  {
   "cell_type": "markdown",
   "metadata": {},
   "source": [
    "This code calculates and displays a person's estimated daily calorie requirements using the Harris-Benedict Equation. Here's how it works:\n",
    "\n",
    "1. Constants for Basal Metabolic Rate (BMR) for both males and females are defined at the beginning of the code. These constants are based on the Harris-Benedict Equation and represent the estimated number of calories a person's body needs at rest.\n",
    "\n",
    "2. Two functions are defined: `calculate_bmr(age, gender, weight, height)` calculates the BMR based on the provided age, gender, weight, and height, while `calculate_calories(age, gender, weight, height, activity_level)` calculates the daily calorie requirements by adjusting the BMR according to the person's activity level.\n",
    "\n",
    "3. The user is prompted to input their age, gender, weight in kilograms, height in centimeters, and activity level. The activity level is used to determine an activity multiplier from the predefined dictionary `ACTIVITY_MULTIPLIERS`.\n",
    "\n",
    "4. The `calculate_calories` function is called with the user's input, and it calculates the daily calorie requirements by multiplying the BMR with the activity multiplier obtained from the dictionary.\n",
    "\n",
    "5. Finally, the code displays the estimated daily calorie requirement for the user based on their inputs, rounded to two decimal places.\n",
    "\n",
    "In summary, this code takes user input for age, gender, weight, height, and activity level, uses the Harris-Benedict Equation to estimate the Basal Metabolic Rate (BMR), adjusts the BMR based on activity level, and then displays the estimated daily calorie requirement for the user's maintenance.\n",
    "\n",
    "\n",
    " It first collects information like age, gender, weight, height, and activity level from the user. Then, it uses a mathematical formula called the Harris-Benedict Equation to estimate their daily calorie requirement based on this information and displays the result in a simple message"
   ]
  }
 ],
 "metadata": {
  "kernelspec": {
   "display_name": "Python 3",
   "language": "python",
   "name": "python3"
  },
  "language_info": {
   "codemirror_mode": {
    "name": "ipython",
    "version": 3
   },
   "file_extension": ".py",
   "mimetype": "text/x-python",
   "name": "python",
   "nbconvert_exporter": "python",
   "pygments_lexer": "ipython3",
   "version": "3.11.5"
  },
  "orig_nbformat": 4
 },
 "nbformat": 4,
 "nbformat_minor": 2
}
