{
 "cells": [
  {
   "cell_type": "markdown",
   "metadata": {},
   "source": []
  },
  {
   "cell_type": "raw",
   "metadata": {},
   "source": [
    "{% include nav_CalCalc.html %}"
   ]
  },
  {
   "cell_type": "markdown",
   "metadata": {},
   "source": [
    "## Welcome to our Daily Calorie Maintenance Calculator\n",
    "\n",
    "For our passion project we decided to create a program that calculates the number of calories you need to consume each day in order to maintain your weight. Thi prpgram can help you on your journey to gain or lose weight and obtain your dream physique, promoting a healthier lifestyle. "
   ]
  },
  {
   "cell_type": "code",
   "execution_count": 5,
   "metadata": {
    "vscode": {
     "languageId": "html"
    }
   },
   "outputs": [
    {
     "data": {
      "text/html": [
       "<p>Try our program by clicking the button below:</p>\n",
       "<button><a href=\"{{site.baseurl}}/CalCalc/frontend\">Click Here</a></button>\n"
      ],
      "text/plain": [
       "<IPython.core.display.HTML object>"
      ]
     },
     "metadata": {},
     "output_type": "display_data"
    }
   ],
   "source": [
    "%%html\n",
    "<p>Try our program by clicking the button below:</p>\n",
    "<button><a href=\"{{site.baseurl}}/CalCalc/frontend\">Click Here</a></button>"
   ]
  }
 ],
 "metadata": {
  "kernelspec": {
   "display_name": "Python 3",
   "language": "python",
   "name": "python3"
  },
  "language_info": {
   "codemirror_mode": {
    "name": "ipython",
    "version": 3
   },
   "file_extension": ".py",
   "mimetype": "text/x-python",
   "name": "python",
   "nbconvert_exporter": "python",
   "pygments_lexer": "ipython3",
   "version": "3.11.5"
  },
  "orig_nbformat": 4
 },
 "nbformat": 4,
 "nbformat_minor": 2
}
