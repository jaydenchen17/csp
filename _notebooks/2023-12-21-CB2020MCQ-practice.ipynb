{
 "cells": [
  {
   "cell_type": "markdown",
   "metadata": {},
   "source": [
    "---\n",
    "toc: true\n",
    "comments: true\n",
    "layout: post\n",
    "title: Collegeboard Practice MCQ Blog\n",
    "description: College Board Practice Test\n",
    "type: tangibles\n",
    "courses: { compsci: {week: 16} }\n",
    "---"
   ]
  },
  {
   "cell_type": "markdown",
   "metadata": {},
   "source": [
    "# Collegeboard 2020 MCQ Practice"
   ]
  },
  {
   "cell_type": "markdown",
   "metadata": {},
   "source": [
    "## Test Review: 56/67\n",
    "\n",
    "- We covered a lot of the cirriculum in the team teaches, so it was useful to see a lot of learned material\n",
    "- A lot of questions were also very basic common sense based, and not very computational\n",
    "- it was hard to focus throughout the entirity of the test\n",
    "- some of the wordings were tricky and tripped me up a bit, same with a few of the diagrams\n",
    "- blox codes??\n",
    "- the internet versions one tripped me up, i didn't know what it was asking"
   ]
  },
  {
   "cell_type": "markdown",
   "metadata": {},
   "source": [
    "## Areas for Growth\n",
    "- binary counting: I don't know how to binary count, so i got a lot of those wrong\n",
    "- Fault tolerance diagrams were still hard to understand, must spend some time reviewing\n",
    "- coordinate grid problems??\n",
    "- learn different internet versions"
   ]
  },
  {
   "cell_type": "markdown",
   "metadata": {},
   "source": [
    "## Test Corrections:\n",
    "\n",
    "In a certain computer program, two positive integers are added together, resulting in an overflow error. Which of the following best explains why the error occurs?\n",
    "\n",
    "> Answer: The program can only use a fixed number of bits to represent integers; the computed sum is greater than the maximum representable value.\n",
    "\n",
    "What is the binary RGB triplet for the color indigo?\n",
    "\n",
    "> Answer: Indigo was (75,0,130) so the right binary RGB triplet is (00100101, 00000000, 10000010)\n",
    "\n",
    "Which of the following best compares the values displayed by programs A and B? (see question 15)\n",
    "\n",
    "> Answer: Program A and program B display identical values in the same order. Program A initializes i to 1. Inside the loop, it prints i and then increments i. The loop terminates when i is greater than 10, which occurs after 10 is printed. Program A prints 1 2 3 4 5 6 7 8 9 10. Program B initializes i to 0. Inside the loop, it increments i and then prints i. The loop terminates when i equals 10, which occurs after 10 is printed. Program B prints 1 2 3 4 5 6 7 8 9 10.\n",
    "\n",
    "The following code segment is intended to draw the figure.\n",
    "\n",
    "startX \n",
    " 2\n",
    "\n",
    "startY \n",
    " 6\n",
    "\n",
    "endX \n",
    " 8\n",
    "\n",
    "endY \n",
    " 8\n",
    "\n",
    "REPEAT 4 TIMES\n",
    "\n",
    "{\n",
    "\n",
    "<MISSING CODE>\n",
    "\n",
    "}\n",
    "\n",
    "Which of the following can be used to replace <MISSING CODE> so that the figure is drawn correctly?\n",
    "\n",
    "> Answer: DrawLine (startX, startY, endX, endY)endY endY - 2\n",
    "\n",
    "Internet protocol version 6 (IPv6) has been introduced to replace the previous version (IPv4). Which of the following best describes a benefit of IPv6 over IPv4?\n",
    "\n",
    "> Answer: IPv6 allows for a greater number of addresses than IPv4, which allows more devices to be connected to the Internet.\n",
    "\n",
    "In which of the configurations is it possible to have redundant routing between devices Q and V? (see question 43 for image)\n",
    "\n",
    "> Answer: Both configuration I and configuration II. In configuration I, some possible routes between computers Q and V include Q-P-V, Q-T-V, and Q-R-S-V. In configuration II, some possible routes between computers Q and V include Q-S-V, Q-R-T-V, and Q-P-T-V.\n",
    "\n",
    "In configuration I, what is the minimum number of connections that must be broken or removed before device T can no longer communicate with device U?\n",
    "\n",
    "> Answer: 2, If the connections between U and V and between U and P were removed, then computer T and computer U can no longer communicate.\n",
    "\n",
    "The transmission control protocol (TCP) and Internet protocol (IP) are used in Internet communication. Which of the following best describes the purpose of these protocols?\n",
    "\n",
    "> Answer: To establish a common standard for sending messages between devices on the Internet\n",
    "\n"
   ]
  }
 ],
 "metadata": {
  "language_info": {
   "name": "python"
  }
 },
 "nbformat": 4,
 "nbformat_minor": 2
}
